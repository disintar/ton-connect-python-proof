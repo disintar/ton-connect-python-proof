{
 "cells": [
  {
   "cell_type": "code",
   "execution_count": 1,
   "id": "9d41d119",
   "metadata": {},
   "outputs": [
    {
     "name": "stderr",
     "output_type": "stream",
     "text": [
      "/Users/tvorogme/opt/anaconda3/lib/python3.9/site-packages/requests/__init__.py:89: RequestsDependencyWarning: urllib3 (1.26.13) or chardet (3.0.4) doesn't match a supported version!\n",
      "  warnings.warn(\"urllib3 ({}) or chardet ({}) doesn't match a supported \"\n"
     ]
    }
   ],
   "source": [
    "from utils import detect_address\n",
    "import requests as r\n",
    "import ed25519\n",
    "import base64 as b\n",
    "from array import array\n",
    "import hashlib"
   ]
  },
  {
   "cell_type": "code",
   "execution_count": 2,
   "id": "1f589a38",
   "metadata": {},
   "outputs": [],
   "source": [
    "DTON_HOST = \"https://dton.io\"\n",
    "DTON_GRAPHQL_URL = f'{DTON_HOST}/graphql/'"
   ]
  },
  {
   "cell_type": "code",
   "execution_count": 3,
   "id": "330f7a22",
   "metadata": {},
   "outputs": [],
   "source": [
    "wallet_address = \"0:ac0922e2b0f67ac54b64822fd39f973e922a5e9551d10b119d3eef71d606954d\"\n",
    "\n",
    "query = \"\"\"\n",
    "mutation {\n",
    "  run_method(\n",
    "    account_search_by_address: {address_friendly: \\\"\"\"\"+ wallet_address +\"\"\"\\\"}\n",
    "    method_name: \"get_public_key\"\n",
    "  ) {\n",
    "    stack {\n",
    "      value\n",
    "      value_type\n",
    "    }\n",
    "  }\n",
    "}\"\"\""
   ]
  },
  {
   "cell_type": "code",
   "execution_count": 4,
   "id": "54f064fe",
   "metadata": {},
   "outputs": [],
   "source": [
    "data = r.post(DTON_GRAPHQL_URL, json={'query': query})"
   ]
  },
  {
   "cell_type": "code",
   "execution_count": 5,
   "id": "52ddb321",
   "metadata": {},
   "outputs": [
    {
     "name": "stdout",
     "output_type": "stream",
     "text": [
      "{'data': {'run_method': {'stack': [{'value': '22904357750873648918539994230726885374799650012723529598629953594018217887363', 'value_type': 'int'}]}}}\n"
     ]
    }
   ],
   "source": [
    "print(data.json())"
   ]
  },
  {
   "cell_type": "code",
   "execution_count": 6,
   "id": "598d93e9",
   "metadata": {},
   "outputs": [],
   "source": [
    "pubkey = hex(int(data.json()['data']['run_method']['stack'][0]['value']))[2:]"
   ]
  },
  {
   "cell_type": "code",
   "execution_count": 7,
   "id": "7253e543",
   "metadata": {},
   "outputs": [],
   "source": [
    "# example\n",
    "answer = {\"timestamp\": 1675102176,\n",
    "          \"domain\": {\n",
    "              \"lengthBytes\": 31,\n",
    "              \"value\": \"b4fd-213-87-160-231.eu.ngrok.io\"\n",
    "          },\n",
    "          \"signature\": \"qJikM1i9wVi2zKss+JpLu3YajTyT54iDZaZNzkR5hphFKxFaL1W97lj+qv0oNaaR3uRYdcKxd7AMU+DMVdMQDQ==\",\n",
    "          \"payload\": \"OQ1UQGOHQW8IODBM8JRD\"}\n"
   ]
  },
  {
   "cell_type": "code",
   "execution_count": 8,
   "id": "f942651e",
   "metadata": {},
   "outputs": [],
   "source": [
    "tonProofPrefix = 'ton-proof-item-v2/'\n",
    "tonConnectPrefix = 'ton-connect'"
   ]
  },
  {
   "cell_type": "code",
   "execution_count": 9,
   "id": "85086a6e",
   "metadata": {},
   "outputs": [],
   "source": [
    "address_parsed = detect_address(wallet_address)['raw_form'].split(':')"
   ]
  },
  {
   "cell_type": "code",
   "execution_count": 10,
   "id": "1b0e3c11",
   "metadata": {},
   "outputs": [],
   "source": [
    "wc = int(address_parsed[0])\n",
    "wc_str = (wc).to_bytes(4, byteorder='big')\n",
    "assert int(wc_str.hex(), 16) == wc"
   ]
  },
  {
   "cell_type": "code",
   "execution_count": 11,
   "id": "0b93d0fd",
   "metadata": {},
   "outputs": [],
   "source": [
    "ad = int(address_parsed[1].zfill(64), 16)\n",
    "ad_str = (ad).to_bytes(32, byteorder='big')"
   ]
  },
  {
   "cell_type": "code",
   "execution_count": 12,
   "id": "1f619a36",
   "metadata": {},
   "outputs": [],
   "source": [
    "ts = int(answer['timestamp'])\n",
    "ts_str = (ts).to_bytes(8, byteorder='little')"
   ]
  },
  {
   "cell_type": "code",
   "execution_count": 13,
   "id": "7beaa35b",
   "metadata": {},
   "outputs": [],
   "source": [
    "dl = answer['domain']['lengthBytes']\n",
    "dl_str = (dl).to_bytes(4, byteorder='little')"
   ]
  },
  {
   "cell_type": "code",
   "execution_count": 14,
   "id": "c95ad5ff",
   "metadata": {},
   "outputs": [],
   "source": [
    "domain = answer['domain']['value']\n",
    "domain_str = domain.encode('utf-8')\n",
    "assert len(domain_str) == dl"
   ]
  },
  {
   "cell_type": "code",
   "execution_count": 15,
   "id": "e44a2322",
   "metadata": {},
   "outputs": [],
   "source": [
    "payload = answer['payload']\n",
    "payload_str = payload.encode('utf-8')"
   ]
  },
  {
   "cell_type": "code",
   "execution_count": 16,
   "id": "ae572044",
   "metadata": {},
   "outputs": [],
   "source": [
    "message = tonProofPrefix.encode() + \\\n",
    "            wc_str + \\\n",
    "            ad_str + \\\n",
    "            dl_str + \\\n",
    "            domain_str + \\\n",
    "            ts_str + \\\n",
    "            payload_str"
   ]
  },
  {
   "cell_type": "code",
   "execution_count": 17,
   "id": "c2592f1a",
   "metadata": {},
   "outputs": [
    {
     "data": {
      "text/plain": [
       "(b'ton-proof-item-v2/',\n",
       " b'\\x00\\x00\\x00\\x00',\n",
       " b'\\xac\\t\"\\xe2\\xb0\\xf6z\\xc5Kd\\x82/\\xd3\\x9f\\x97>\\x92*^\\x95Q\\xd1\\x0b\\x11\\x9d>\\xefq\\xd6\\x06\\x95M',\n",
       " b'\\x1f\\x00\\x00\\x00',\n",
       " b'b4fd-213-87-160-231.eu.ngrok.io',\n",
       " b'\\xe0\\x07\\xd8c\\x00\\x00\\x00\\x00',\n",
       " b'OQ1UQGOHQW8IODBM8JRD')"
      ]
     },
     "execution_count": 17,
     "metadata": {},
     "output_type": "execute_result"
    }
   ],
   "source": [
    "tonProofPrefix.encode(), wc_str, ad_str, dl_str, domain_str, ts_str, payload_str"
   ]
  },
  {
   "cell_type": "code",
   "execution_count": 18,
   "id": "8197adf7",
   "metadata": {},
   "outputs": [],
   "source": [
    "def get_hash(x):\n",
    "    h = hashlib.new('sha256')\n",
    "    h.update(x)\n",
    "    return bytes.fromhex(h.hexdigest())"
   ]
  },
  {
   "cell_type": "code",
   "execution_count": 19,
   "id": "083cd229",
   "metadata": {},
   "outputs": [
    {
     "data": {
      "text/plain": [
       "b'1\\xff\\x1aqN\\xa3Ip\\xe8\\x97\\xcc\\x83\\xd2\\x01\\xce\\xcb\\xbb9\\x80h\\xbc\\xf3\\x8e\\xab\\x9eL\\x9f\\xcd)m\\x18n'"
      ]
     },
     "execution_count": 19,
     "metadata": {},
     "output_type": "execute_result"
    }
   ],
   "source": [
    "h = get_hash(message)\n",
    "h"
   ]
  },
  {
   "cell_type": "code",
   "execution_count": 20,
   "id": "67a02a9f",
   "metadata": {},
   "outputs": [
    {
     "data": {
      "text/plain": [
       "(b'\\xff\\xff',\n",
       " b'ton-connect',\n",
       " b'1\\xff\\x1aqN\\xa3Ip\\xe8\\x97\\xcc\\x83\\xd2\\x01\\xce\\xcb\\xbb9\\x80h\\xbc\\xf3\\x8e\\xab\\x9eL\\x9f\\xcd)m\\x18n')"
      ]
     },
     "execution_count": 20,
     "metadata": {},
     "output_type": "execute_result"
    }
   ],
   "source": [
    "ff = bytes(bytearray([0xff, 0xff]))\n",
    "ff, tonConnectPrefix.encode(), h"
   ]
  },
  {
   "cell_type": "code",
   "execution_count": 21,
   "id": "92c478f4",
   "metadata": {},
   "outputs": [],
   "source": [
    "public_key = ed25519.VerifyingKey(pubkey, \n",
    "                                  encoding='hex')\n",
    "\n",
    "# if fail - will raise exception\n",
    "public_key.verify(b.b64decode(answer['signature']), \n",
    "                  get_hash(ff + tonConnectPrefix.encode() + h))"
   ]
  },
  {
   "cell_type": "code",
   "execution_count": null,
   "id": "de26d461",
   "metadata": {},
   "outputs": [],
   "source": []
  }
 ],
 "metadata": {
  "kernelspec": {
   "display_name": "Python 3 (ipykernel)",
   "language": "python",
   "name": "python3"
  },
  "language_info": {
   "codemirror_mode": {
    "name": "ipython",
    "version": 3
   },
   "file_extension": ".py",
   "mimetype": "text/x-python",
   "name": "python",
   "nbconvert_exporter": "python",
   "pygments_lexer": "ipython3",
   "version": "3.9.12"
  }
 },
 "nbformat": 4,
 "nbformat_minor": 5
}
